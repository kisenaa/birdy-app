{
 "cells": [
  {
   "cell_type": "code",
   "execution_count": 4,
   "id": "bdf6d966",
   "metadata": {},
   "outputs": [
    {
     "name": "stdout",
     "output_type": "stream",
     "text": [
      "✅ Saved NHWC-compatible model to: bestfp16_nhwc.onnx\n"
     ]
    }
   ],
   "source": [
    "import onnx\n",
    "import onnx_graphsurgeon as gs\n",
    "import numpy as np\n",
    "\n",
    "def insert_nhwc_to_nchw_transpose(\n",
    "    model_path=\"bestfp16.onnx\",\n",
    "    output_path=\"bestfp16_nhwc.onnx\",\n",
    "    input_name=\"images\"\n",
    "):\n",
    "    model = onnx.load(model_path)\n",
    "    graph = gs.import_onnx(model)\n",
    "\n",
    "    # Find input\n",
    "    input_var = next((inp for inp in graph.inputs if inp.name == input_name), None)\n",
    "    assert input_var is not None, f\"❌ Input '{input_name}' not found.\"\n",
    "\n",
    "    # ⚠️ Use dynamic shape: [N, H, W, 3]\n",
    "    input_var.shape = [\"batch\", \"height\", \"width\", 3]\n",
    "    input_var.dtype = np.float32\n",
    "\n",
    "    # Output of transpose: [N, 3, H, W]\n",
    "    transposed = gs.Variable(name=\"pixel_values_nchw\", dtype=np.float32, shape=[\"batch\", 3, \"height\", \"width\"])\n",
    "\n",
    "    # Insert NHWC → NCHW Transpose\n",
    "    transpose_node = gs.Node(\n",
    "        op=\"Transpose\",\n",
    "        name=\"Transpose_NHWC_to_NCHW\",\n",
    "        inputs=[input_var],\n",
    "        outputs=[transposed],\n",
    "        attrs={\"perm\": [0, 3, 1, 2]},  # NHWC to NCHW\n",
    "    )\n",
    "\n",
    "    # Replace input usage\n",
    "    for node in graph.nodes:\n",
    "        node.inputs = [transposed if inp is input_var else inp for inp in node.inputs]\n",
    "\n",
    "    graph.nodes.insert(0, transpose_node)\n",
    "\n",
    "    graph.cleanup().toposort()\n",
    "    onnx.save(gs.export_onnx(graph), output_path)\n",
    "\n",
    "    print(f\"✅ Saved NHWC-compatible model to: {output_path}\")\n",
    "\n",
    "if __name__ == \"__main__\":\n",
    "    insert_nhwc_to_nchw_transpose()\n"
   ]
  },
  {
   "cell_type": "code",
   "execution_count": 5,
   "id": "785d1199",
   "metadata": {},
   "outputs": [
    {
     "name": "stdout",
     "output_type": "stream",
     "text": [
      "✅ Model passed ONNX validation.\n",
      "IR version: 10\n",
      "Opset version for domain '': 20\n"
     ]
    }
   ],
   "source": [
    "import onnx\n",
    "import onnx_graphsurgeon as gs\n",
    "import numpy as np\n",
    "model_path = \"bestfp16_nhwc.onnx\"\n",
    "model = onnx.load(model_path)\n",
    "graph = gs.import_onnx(model)\n",
    "exported_model = gs.export_onnx(graph)\n",
    "\n",
    "# Copy IR and opset version from original\n",
    "exported_model.ir_version = 10\n",
    "#del exported_model.opset_import[:]\n",
    "#exported_model.opset_import.extend(model.opset_import)\n",
    "\n",
    "try:\n",
    "    onnx.checker.check_model(exported_model)\n",
    "    print(\"✅ Model passed ONNX validation.\")\n",
    "except onnx.checker.ValidationError as e:\n",
    "    print(\"❌ Model failed ONNX validation:\")\n",
    "    print(e)\n",
    "\n",
    "\n",
    "print(\"IR version:\", exported_model.ir_version)\n",
    "for opset in exported_model.opset_import:\n",
    "    print(\"Opset version for domain '{}': {}\".format(opset.domain, opset.version))\n",
    "\n",
    "onnx.save(exported_model, \"bestfp16_nhwc.onnx\")\n"
   ]
  }
 ],
 "metadata": {
  "kernelspec": {
   "display_name": "Python 3",
   "language": "python",
   "name": "python3"
  },
  "language_info": {
   "codemirror_mode": {
    "name": "ipython",
    "version": 3
   },
   "file_extension": ".py",
   "mimetype": "text/x-python",
   "name": "python",
   "nbconvert_exporter": "python",
   "pygments_lexer": "ipython3",
   "version": "3.12.10"
  }
 },
 "nbformat": 4,
 "nbformat_minor": 5
}
