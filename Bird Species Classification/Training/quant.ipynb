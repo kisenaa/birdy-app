{
 "cells": [
  {
   "cell_type": "markdown",
   "id": "46de836c",
   "metadata": {},
   "source": [
    "## Pre process"
   ]
  },
  {
   "cell_type": "code",
   "execution_count": 19,
   "id": "ba1662d9",
   "metadata": {},
   "outputs": [],
   "source": [
    "from onnxruntime import quantization\n",
    "import onnx\n",
    "import onnxslim\n",
    "import onnxslim.cli\n",
    "\n",
    "model_prep_path = './quant/basefp16_prep.onnx'\n",
    "model_path = onnx.load('./quant/basefp16_slimmed.onnx', load_external_data=True)\n",
    "#onnxslim.cli.slim(model=model_path,output_model='./quant/basefp32_slimmed.onnx')\n",
    "onnx.checker.check_model(model_path, full_check=True)\n",
    "quantization.shape_inference.quant_pre_process(model_path, model_prep_path, skip_symbolic_shape=False)\n"
   ]
  },
  {
   "cell_type": "markdown",
   "id": "d51cd332",
   "metadata": {},
   "source": []
  },
  {
   "cell_type": "code",
   "execution_count": 2,
   "id": "f0b2b7fe",
   "metadata": {},
   "outputs": [
    {
     "name": "stdout",
     "output_type": "stream",
     "text": [
      "Dynamic quantization complete. Quantized model saved to ./quant/baseQUInt8_quantized_dynamic.onnx\n"
     ]
    }
   ],
   "source": [
    "from onnxruntime.quantization import quantize_dynamic, QuantType\n",
    "from onnx import load\n",
    "# Path to the original ONNX model\n",
    "onnx_model_path = \"./quant/basefp32_prep.onnx\"\n",
    "# Path to save the quantized ONNX model\n",
    "quantized_model_path = \"./quant/baseQUInt8_quantized_dynamic.onnx\"\n",
    "\n",
    "# Perform dynamic quantization\n",
    "quantize_dynamic(\n",
    "    model_input=onnx_model_path,       # Path to the FP32 model\n",
    "    model_output=quantized_model_path, # Path to save the INT8 model\n",
    "    weight_type=QuantType.QUInt8,        # Quantize weights to INT8\n",
    "    extra_options={\n",
    "        'ActivationSymmetric': False,\n",
    "        'WeightSymmetric ': True\n",
    "    }\n",
    ")\n",
    "\n",
    "print(f\"Dynamic quantization complete. Quantized model saved to {quantized_model_path}\")"
   ]
  }
 ],
 "metadata": {
  "kernelspec": {
   "display_name": "Python 3",
   "language": "python",
   "name": "python3"
  },
  "language_info": {
   "codemirror_mode": {
    "name": "ipython",
    "version": 3
   },
   "file_extension": ".py",
   "mimetype": "text/x-python",
   "name": "python",
   "nbconvert_exporter": "python",
   "pygments_lexer": "ipython3",
   "version": "3.12.10"
  }
 },
 "nbformat": 4,
 "nbformat_minor": 5
}
